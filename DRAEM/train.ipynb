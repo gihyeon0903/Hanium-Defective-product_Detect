{
  "cells": [
    {
      "cell_type": "markdown",
      "id": "ced95474-fd1b-48d1-8966-fcdd91858ebc",
      "metadata": {
        "id": "ced95474-fd1b-48d1-8966-fcdd91858ebc"
      },
      "source": [
        "https://github.com/VitjanZ/DRAEM"
      ]
    },
    {
      "cell_type": "code",
      "source": [
        "from google.colab import drive\n",
        "drive.mount('/content/drive')"
      ],
      "metadata": {
        "colab": {
          "base_uri": "https://localhost:8080/"
        },
        "id": "ShUOT4IK_l1s",
        "outputId": "7cf5e127-b0c9-4e25-b682-550885d7e971"
      },
      "id": "ShUOT4IK_l1s",
      "execution_count": 1,
      "outputs": [
        {
          "output_type": "stream",
          "name": "stdout",
          "text": [
            "Mounted at /content/drive\n"
          ]
        }
      ]
    },
    {
      "cell_type": "code",
      "source": [
        "%cd ./drive/MyDrive/Hanium/Anomaly_detect/"
      ],
      "metadata": {
        "colab": {
          "base_uri": "https://localhost:8080/"
        },
        "id": "XjXFGlUm_lyL",
        "outputId": "128fc29e-ca79-4267-e33f-3dc288d14b01"
      },
      "id": "XjXFGlUm_lyL",
      "execution_count": 2,
      "outputs": [
        {
          "output_type": "stream",
          "name": "stdout",
          "text": [
            "/content/drive/MyDrive/Hanium/Anomaly_detect\n"
          ]
        }
      ]
    },
    {
      "cell_type": "markdown",
      "id": "b6e01ea9-47c0-4932-a836-c1a047fd808b",
      "metadata": {
        "id": "b6e01ea9-47c0-4932-a836-c1a047fd808b"
      },
      "source": [
        "### Import Lib"
      ]
    },
    {
      "cell_type": "code",
      "execution_count": 3,
      "id": "85907675-f18b-46ed-b5eb-63c01e367992",
      "metadata": {
        "tags": [],
        "id": "85907675-f18b-46ed-b5eb-63c01e367992"
      },
      "outputs": [],
      "source": [
        "import torch\n",
        "from torch.utils.data import DataLoader\n",
        "from torch import optim\n",
        "\n",
        "from model_unet import ReconstructiveSubNetwork, DiscriminativeSubNetwork\n",
        "from data_loader import MVTecDRAEMTrainDataset, MVTecDRAEMTestDataset\n",
        "from loss import FocalLoss, SSIM\n",
        "from utils import get_lr, weights_init\n",
        "\n",
        "import os, easydict\n",
        "import numpy as np\n",
        "import matplotlib.pyplot as plt\n",
        "from tqdm import tqdm"
      ]
    },
    {
      "cell_type": "markdown",
      "id": "c6a55a8f-9f89-4195-b95f-014e5d337ba7",
      "metadata": {
        "id": "c6a55a8f-9f89-4195-b95f-014e5d337ba7"
      },
      "source": [
        "### Set Parameter "
      ]
    },
    {
      "cell_type": "code",
      "execution_count": 4,
      "id": "07f5afd6-1e9a-40e8-a29e-c6202423a96c",
      "metadata": {
        "tags": [],
        "id": "07f5afd6-1e9a-40e8-a29e-c6202423a96c"
      },
      "outputs": [],
      "source": [
        "bs = 4\n",
        "lr = 1e-4\n",
        "epochs = 100 #300\n",
        "start_epoch = 0\n",
        "data_path = \"./datasets/mvtec/\"\n",
        "anomaly_source_path = \"./datasets/dtd/images/\"\n",
        "checkpoint_path = \"./checkpoints/\"\n",
        "log_path = \"./logs/\"\n",
        "\n",
        "\n",
        "obj_batch = [['capsule'], ['bottle'], ['carpet'], ['leather'], ['pill'], ['transistor'], ['tile'], ['cable'],\n",
        "             ['zipper'], ['toothbrush'], ['metal_nut'], ['hazelnut'], ['screw'], ['grid'], ['wood']]\n",
        "\n",
        "obj_name = obj_batch[2][0]\n",
        "run_name = 'DRAEM_test_'+str(lr)+'_'+str(epochs)+'_bs'+str(bs)+\"_\"+obj_name+'_'"
      ]
    },
    {
      "cell_type": "code",
      "source": [
        "print(\"Train Class : \", obj_name)"
      ],
      "metadata": {
        "colab": {
          "base_uri": "https://localhost:8080/"
        },
        "id": "UWJpqpjDAL7F",
        "outputId": "7c5d3c9e-5386-4265-ca46-89b72d7f028e"
      },
      "id": "UWJpqpjDAL7F",
      "execution_count": 5,
      "outputs": [
        {
          "output_type": "stream",
          "name": "stdout",
          "text": [
            "Train Class :  carpet\n"
          ]
        }
      ]
    },
    {
      "cell_type": "markdown",
      "id": "3e6711c9-2da3-4545-9627-5e6fcb09d795",
      "metadata": {
        "id": "3e6711c9-2da3-4545-9627-5e6fcb09d795"
      },
      "source": [
        "### Set Dataset"
      ]
    },
    {
      "cell_type": "code",
      "execution_count": 6,
      "id": "b52c8e19-7fff-45d1-80f0-eb2836bccd73",
      "metadata": {
        "tags": [],
        "id": "b52c8e19-7fff-45d1-80f0-eb2836bccd73"
      },
      "outputs": [],
      "source": [
        "Train_dataset = MVTecDRAEMTrainDataset(data_path + obj_name + \"/train/good/\", anomaly_source_path, resize_shape=[256, 256])\n",
        "Test_dataset = MVTecDRAEMTestDataset(data_path + obj_name + \"/test/\", resize_shape=[256, 256])\n",
        "\n",
        "Train_dataloader = DataLoader(Train_dataset, batch_size=bs, shuffle=True, num_workers=0)\n",
        "Test_dataloader = DataLoader(Test_dataset, batch_size=bs, shuffle=True, num_workers=0)"
      ]
    },
    {
      "cell_type": "markdown",
      "id": "c8494711-4df2-4e29-bf51-30461ecd476d",
      "metadata": {
        "id": "c8494711-4df2-4e29-bf51-30461ecd476d"
      },
      "source": [
        "### Visualization Sample"
      ]
    },
    {
      "cell_type": "code",
      "execution_count": 7,
      "id": "234db7e6-24ad-408d-8a6a-1a67b8ed62f7",
      "metadata": {
        "tags": [],
        "colab": {
          "base_uri": "https://localhost:8080/",
          "height": 246
        },
        "id": "234db7e6-24ad-408d-8a6a-1a67b8ed62f7",
        "outputId": "785854e5-0c68-4dd2-a654-1e370e6ea78f"
      },
      "outputs": [
        {
          "output_type": "stream",
          "name": "stdout",
          "text": [
            "[0.]\n"
          ]
        },
        {
          "output_type": "display_data",
          "data": {
            "text/plain": [
              "<Figure size 640x480 with 3 Axes>"
            ],
            "image/png": "[encoded data removed]"
          },
          "metadata": {}
        }
      ],
      "source": [
        "sample = Train_dataset.__getitem__(3)\n",
        "img, anomaly_mask, augmented_image, has_anomaly, idx = sample.values()\n",
        "print(has_anomaly)\n",
        "plt.subplot(1,3,1)\n",
        "plt.title(\"original\")\n",
        "plt.imshow(img.transpose(1,2,0))\n",
        "plt.subplot(1,3,2)\n",
        "plt.title(\"anomal_mask\")\n",
        "plt.imshow(anomaly_mask.transpose(1,2,0))\n",
        "plt.subplot(1,3,3)\n",
        "plt.title(\"I_a\")\n",
        "plt.imshow(augmented_image.transpose(1,2,0))\n",
        "plt.show()"
      ]
    },
    {
      "cell_type": "markdown",
      "id": "41ea9f18-504f-48b1-88b0-e4d2664aa129",
      "metadata": {
        "id": "41ea9f18-504f-48b1-88b0-e4d2664aa129"
      },
      "source": [
        "### Set Model"
      ]
    },
    {
      "cell_type": "code",
      "execution_count": 8,
      "id": "d82cd4dc-8fcf-456f-8b6b-9a4a764312ed",
      "metadata": {
        "scrolled": true,
        "tags": [],
        "id": "d82cd4dc-8fcf-456f-8b6b-9a4a764312ed"
      },
      "outputs": [],
      "source": [
        "# ReconstructiveSubNetwork\n",
        "model = ReconstructiveSubNetwork(in_channels=3, out_channels=3)\n",
        "model.cuda()\n",
        "model.apply(weights_init);\n",
        "\n",
        "# DiscriminativeSubNetwork\n",
        "model_seg = DiscriminativeSubNetwork(in_channels=6, out_channels=2)\n",
        "model_seg.cuda()\n",
        "model_seg.apply(weights_init);"
      ]
    },
    {
      "cell_type": "markdown",
      "id": "7eb97fac-d6f6-47a8-ac4c-36e01b4ed4b9",
      "metadata": {
        "id": "7eb97fac-d6f6-47a8-ac4c-36e01b4ed4b9"
      },
      "source": [
        "### Set Hyperparameters"
      ]
    },
    {
      "cell_type": "code",
      "execution_count": 9,
      "id": "c1a19a7b-94ef-4dd0-9a58-a1cfe41434a0",
      "metadata": {
        "tags": [],
        "id": "c1a19a7b-94ef-4dd0-9a58-a1cfe41434a0"
      },
      "outputs": [],
      "source": [
        "optimizer = torch.optim.Adam([{\"params\": model.parameters(), \"lr\": lr}, {\"params\": model_seg.parameters(), \"lr\": lr}])\n",
        "scheduler = optim.lr_scheduler.MultiStepLR(optimizer,[epochs*0.8,epochs*0.9],gamma=0.2, last_epoch=-1)"
      ]
    },
    {
      "cell_type": "code",
      "execution_count": 11,
      "id": "27e204cc-3111-446d-9704-ceb083fb9d31",
      "metadata": {
        "tags": [],
        "id": "27e204cc-3111-446d-9704-ceb083fb9d31"
      },
      "outputs": [],
      "source": [
        "loss_l2 = torch.nn.modules.loss.MSELoss()\n",
        "loss_ssim = SSIM()\n",
        "loss_focal = FocalLoss()"
      ]
    },
    {
      "cell_type": "markdown",
      "source": [
        "### Re-train"
      ],
      "metadata": {
        "id": "F_JqjjebTULt"
      },
      "id": "F_JqjjebTULt"
    },
    {
      "cell_type": "code",
      "source": [
        "# 불러오고 적용하기\n",
        "checkpoint = torch.load('./checkpoints/checkpoint.tar')\n",
        "\n",
        "model.load_state_dict(checkpoint['model_state_dict'])\n",
        "model_seg.load_state_dict(checkpoint['model_seg_state_dict'])\n",
        "optimizer.load_state_dict(checkpoint['optimizer_state_dict'])\n",
        "scheduler.load_state_dict(checkpoint['scheduler_state_dict'])\n",
        "start_epoch = checkpoint['epoch']"
      ],
      "metadata": {
        "id": "lr8HuQKoT90U"
      },
      "id": "lr8HuQKoT90U",
      "execution_count": 10,
      "outputs": []
    },
    {
      "cell_type": "code",
      "source": [
        "model = model.to('cuda')\n",
        "model_seg = model_seg.to('cuda')"
      ],
      "metadata": {
        "id": "mkD-QZi851X9"
      },
      "id": "mkD-QZi851X9",
      "execution_count": 12,
      "outputs": []
    },
    {
      "cell_type": "markdown",
      "id": "eab8a961-edac-4fc1-8d19-99d1fa04388c",
      "metadata": {
        "id": "eab8a961-edac-4fc1-8d19-99d1fa04388c"
      },
      "source": [
        "### Train"
      ]
    },
    {
      "cell_type": "code",
      "execution_count": null,
      "id": "599326bd-fa65-4c18-85aa-f14f8901c461",
      "metadata": {
        "tags": [],
        "colab": {
          "base_uri": "https://localhost:8080/"
        },
        "id": "599326bd-fa65-4c18-85aa-f14f8901c461",
        "outputId": "ac0f9def-3ca8-4dd7-fcf3-05d1585db048"
      },
      "outputs": [
        {
          "metadata": {
            "tags": null
          },
          "name": "stderr",
          "output_type": "stream",
          "text": [
            "100%|██████████| 70/70 [04:14<00:00,  3.63s/it]\n",
            "100%|██████████| 30/30 [04:03<00:00,  8.13s/it]\n"
          ]
        },
        {
          "metadata": {
            "tags": null
          },
          "name": "stdout",
          "output_type": "stream",
          "text": [
            "=====================[198 / 298]=====================\n",
            "train_loss : 0.2497\n",
            "val_segment_loss : 0.0222\n"
          ]
        },
        {
          "metadata": {
            "tags": null
          },
          "name": "stderr",
          "output_type": "stream",
          "text": [
            "100%|██████████| 70/70 [03:57<00:00,  3.40s/it]\n",
            "100%|██████████| 30/30 [00:15<00:00,  1.91it/s]\n"
          ]
        },
        {
          "metadata": {
            "tags": null
          },
          "name": "stdout",
          "output_type": "stream",
          "text": [
            "=====================[199 / 298]=====================\n",
            "train_loss : 0.2397\n",
            "val_segment_loss : 0.0129\n"
          ]
        },
        {
          "metadata": {
            "tags": null
          },
          "name": "stderr",
          "output_type": "stream",
          "text": [
            "100%|██████████| 70/70 [03:43<00:00,  3.20s/it]\n",
            "100%|██████████| 30/30 [00:15<00:00,  1.90it/s]\n"
          ]
        },
        {
          "metadata": {
            "tags": null
          },
          "name": "stdout",
          "output_type": "stream",
          "text": [
            "=====================[200 / 298]=====================\n",
            "train_loss : 0.2548\n",
            "val_segment_loss : 0.0216\n"
          ]
        },
        {
          "metadata": {
            "tags": null
          },
          "name": "stderr",
          "output_type": "stream",
          "text": [
            "100%|██████████| 70/70 [04:12<00:00,  3.61s/it]\n",
            "100%|██████████| 30/30 [00:15<00:00,  1.90it/s]\n"
          ]
        },
        {
          "metadata": {
            "tags": null
          },
          "name": "stdout",
          "output_type": "stream",
          "text": [
            "=====================[201 / 298]=====================\n",
            "train_loss : 0.2637\n",
            "val_segment_loss : 0.0182\n"
          ]
        },
        {
          "metadata": {
            "tags": null
          },
          "name": "stderr",
          "output_type": "stream",
          "text": [
            "100%|██████████| 70/70 [03:52<00:00,  3.32s/it]\n",
            "100%|██████████| 30/30 [00:15<00:00,  1.90it/s]\n"
          ]
        },
        {
          "metadata": {
            "tags": null
          },
          "name": "stdout",
          "output_type": "stream",
          "text": [
            "=====================[202 / 298]=====================\n",
            "train_loss : 0.2427\n",
            "val_segment_loss : 0.0140\n"
          ]
        },
        {
          "metadata": {
            "tags": null
          },
          "name": "stderr",
          "output_type": "stream",
          "text": [
            "100%|██████████| 70/70 [03:17<00:00,  2.82s/it]\n",
            "100%|██████████| 30/30 [00:15<00:00,  1.93it/s]\n"
          ]
        },
        {
          "metadata": {
            "tags": null
          },
          "name": "stdout",
          "output_type": "stream",
          "text": [
            "=====================[203 / 298]=====================\n",
            "train_loss : 0.2492\n",
            "val_segment_loss : 0.0131\n"
          ]
        },
        {
          "metadata": {
            "tags": null
          },
          "name": "stderr",
          "output_type": "stream",
          "text": [
            "100%|██████████| 70/70 [03:20<00:00,  2.87s/it]\n",
            "100%|██████████| 30/30 [00:15<00:00,  1.90it/s]\n"
          ]
        },
        {
          "metadata": {
            "tags": null
          },
          "name": "stdout",
          "output_type": "stream",
          "text": [
            "=====================[204 / 298]=====================\n",
            "train_loss : 0.2483\n",
            "val_segment_loss : 0.0131\n"
          ]
        },
        {
          "metadata": {
            "tags": null
          },
          "name": "stderr",
          "output_type": "stream",
          "text": [
            "100%|██████████| 70/70 [03:01<00:00,  2.60s/it]\n",
            "100%|██████████| 30/30 [00:15<00:00,  1.89it/s]\n"
          ]
        },
        {
          "metadata": {
            "tags": null
          },
          "name": "stdout",
          "output_type": "stream",
          "text": [
            "=====================[205 / 298]=====================\n",
            "train_loss : 0.2408\n",
            "val_segment_loss : 0.0123\n"
          ]
        },
        {
          "metadata": {
            "tags": null
          },
          "name": "stderr",
          "output_type": "stream",
          "text": [
            "100%|██████████| 70/70 [03:03<00:00,  2.63s/it]\n",
            "100%|██████████| 30/30 [00:15<00:00,  1.92it/s]\n"
          ]
        },
        {
          "metadata": {
            "tags": null
          },
          "name": "stdout",
          "output_type": "stream",
          "text": [
            "=====================[206 / 298]=====================\n",
            "train_loss : 0.2617\n",
            "val_segment_loss : 0.0199\n"
          ]
        },
        {
          "metadata": {
            "tags": null
          },
          "name": "stderr",
          "output_type": "stream",
          "text": [
            "100%|██████████| 70/70 [02:51<00:00,  2.45s/it]\n",
            "100%|██████████| 30/30 [00:15<00:00,  1.91it/s]\n"
          ]
        },
        {
          "metadata": {
            "tags": null
          },
          "name": "stdout",
          "output_type": "stream",
          "text": [
            "=====================[207 / 298]=====================\n",
            "train_loss : 0.2510\n",
            "val_segment_loss : 0.0114\n"
          ]
        },
        {
          "metadata": {
            "tags": null
          },
          "name": "stderr",
          "output_type": "stream",
          "text": [
            "100%|██████████| 70/70 [02:47<00:00,  2.39s/it]\n",
            "100%|██████████| 30/30 [00:15<00:00,  1.90it/s]\n"
          ]
        },
        {
          "metadata": {
            "tags": null
          },
          "name": "stdout",
          "output_type": "stream",
          "text": [
            "=====================[208 / 298]=====================\n",
            "train_loss : 0.2472\n",
            "val_segment_loss : 0.0125\n"
          ]
        },
        {
          "metadata": {
            "tags": null
          },
          "name": "stderr",
          "output_type": "stream",
          "text": [
            "100%|██████████| 70/70 [02:47<00:00,  2.40s/it]\n",
            "100%|██████████| 30/30 [00:15<00:00,  1.92it/s]\n"
          ]
        },
        {
          "metadata": {
            "tags": null
          },
          "name": "stdout",
          "output_type": "stream",
          "text": [
            "=====================[209 / 298]=====================\n",
            "train_loss : 0.2653\n",
            "val_segment_loss : 0.0134\n"
          ]
        },
        {
          "metadata": {
            "tags": null
          },
          "name": "stderr",
          "output_type": "stream",
          "text": [
            "100%|██████████| 70/70 [02:19<00:00,  1.99s/it]\n",
            "100%|██████████| 30/30 [00:15<00:00,  1.90it/s]\n"
          ]
        },
        {
          "metadata": {
            "tags": null
          },
          "name": "stdout",
          "output_type": "stream",
          "text": [
            "=====================[210 / 298]=====================\n",
            "train_loss : 0.2592\n",
            "val_segment_loss : 0.0133\n"
          ]
        },
        {
          "metadata": {
            "tags": null
          },
          "name": "stderr",
          "output_type": "stream",
          "text": [
            "100%|██████████| 70/70 [02:18<00:00,  1.97s/it]\n",
            "100%|██████████| 30/30 [00:15<00:00,  1.91it/s]\n"
          ]
        },
        {
          "metadata": {
            "tags": null
          },
          "name": "stdout",
          "output_type": "stream",
          "text": [
            "=====================[211 / 298]=====================\n",
            "train_loss : 0.2454\n",
            "val_segment_loss : 0.0121\n"
          ]
        },
        {
          "metadata": {
            "tags": null
          },
          "name": "stderr",
          "output_type": "stream",
          "text": [
            "100%|██████████| 70/70 [02:30<00:00,  2.15s/it]\n",
            "100%|██████████| 30/30 [00:16<00:00,  1.85it/s]\n"
          ]
        },
        {
          "metadata": {
            "tags": null
          },
          "name": "stdout",
          "output_type": "stream",
          "text": [
            "=====================[212 / 298]=====================\n",
            "train_loss : 0.2542\n",
            "val_segment_loss : 0.0136\n"
          ]
        },
        {
          "metadata": {
            "tags": null
          },
          "name": "stderr",
          "output_type": "stream",
          "text": [
            "100%|██████████| 70/70 [02:20<00:00,  2.01s/it]\n",
            "100%|██████████| 30/30 [00:15<00:00,  1.89it/s]\n"
          ]
        },
        {
          "metadata": {
            "tags": null
          },
          "name": "stdout",
          "output_type": "stream",
          "text": [
            "=====================[213 / 298]=====================\n",
            "train_loss : 0.2425\n",
            "val_segment_loss : 0.0129\n"
          ]
        },
        {
          "metadata": {
            "tags": null
          },
          "name": "stderr",
          "output_type": "stream",
          "text": [
            "100%|██████████| 70/70 [02:30<00:00,  2.15s/it]\n",
            "100%|██████████| 30/30 [00:15<00:00,  1.90it/s]\n"
          ]
        },
        {
          "metadata": {
            "tags": null
          },
          "name": "stdout",
          "output_type": "stream",
          "text": [
            "=====================[214 / 298]=====================\n",
            "train_loss : 0.2499\n",
            "val_segment_loss : 0.0122\n"
          ]
        },
        {
          "metadata": {
            "tags": null
          },
          "name": "stderr",
          "output_type": "stream",
          "text": [
            "100%|██████████| 70/70 [02:19<00:00,  1.99s/it]\n",
            "100%|██████████| 30/30 [00:15<00:00,  1.91it/s]\n"
          ]
        },
        {
          "metadata": {
            "tags": null
          },
          "name": "stdout",
          "output_type": "stream",
          "text": [
            "=====================[215 / 298]=====================\n",
            "train_loss : 0.2535\n",
            "val_segment_loss : 0.0130\n"
          ]
        },
        {
          "metadata": {
            "tags": null
          },
          "name": "stderr",
          "output_type": "stream",
          "text": [
            "100%|██████████| 70/70 [02:07<00:00,  1.82s/it]\n",
            "100%|██████████| 30/30 [00:15<00:00,  1.92it/s]\n"
          ]
        },
        {
          "metadata": {
            "tags": null
          },
          "name": "stdout",
          "output_type": "stream",
          "text": [
            "=====================[216 / 298]=====================\n",
            "train_loss : 0.2522\n",
            "val_segment_loss : 0.0125\n"
          ]
        },
        {
          "metadata": {
            "tags": null
          },
          "name": "stderr",
          "output_type": "stream",
          "text": [
            "100%|██████████| 70/70 [02:06<00:00,  1.81s/it]\n",
            "100%|██████████| 30/30 [00:15<00:00,  1.93it/s]\n"
          ]
        },
        {
          "metadata": {
            "tags": null
          },
          "name": "stdout",
          "output_type": "stream",
          "text": [
            "=====================[217 / 298]=====================\n",
            "train_loss : 0.2432\n",
            "val_segment_loss : 0.0126\n"
          ]
        },
        {
          "metadata": {
            "tags": null
          },
          "name": "stderr",
          "output_type": "stream",
          "text": [
            "100%|██████████| 70/70 [01:52<00:00,  1.61s/it]\n",
            "100%|██████████| 30/30 [00:15<00:00,  1.93it/s]\n"
          ]
        },
        {
          "metadata": {
            "tags": null
          },
          "name": "stdout",
          "output_type": "stream",
          "text": [
            "=====================[218 / 298]=====================\n",
            "train_loss : 0.2347\n",
            "val_segment_loss : 0.0123\n"
          ]
        },
        {
          "metadata": {
            "tags": null
          },
          "name": "stderr",
          "output_type": "stream",
          "text": [
            "100%|██████████| 70/70 [01:56<00:00,  1.67s/it]\n",
            "100%|██████████| 30/30 [00:16<00:00,  1.85it/s]\n"
          ]
        },
        {
          "metadata": {
            "tags": null
          },
          "name": "stdout",
          "output_type": "stream",
          "text": [
            "=====================[219 / 298]=====================\n",
            "train_loss : 0.2389\n",
            "val_segment_loss : 0.0139\n"
          ]
        },
        {
          "metadata": {
            "tags": null
          },
          "name": "stderr",
          "output_type": "stream",
          "text": [
            "100%|██████████| 70/70 [01:51<00:00,  1.59s/it]\n",
            "100%|██████████| 30/30 [00:15<00:00,  1.92it/s]\n"
          ]
        },
        {
          "metadata": {
            "tags": null
          },
          "name": "stdout",
          "output_type": "stream",
          "text": [
            "=====================[220 / 298]=====================\n",
            "train_loss : 0.2330\n",
            "val_segment_loss : 0.0123\n"
          ]
        },
        {
          "metadata": {
            "tags": null
          },
          "name": "stderr",
          "output_type": "stream",
          "text": [
            "100%|██████████| 70/70 [01:55<00:00,  1.65s/it]\n",
            "100%|██████████| 30/30 [00:15<00:00,  1.91it/s]\n"
          ]
        },
        {
          "metadata": {
            "tags": null
          },
          "name": "stdout",
          "output_type": "stream",
          "text": [
            "=====================[221 / 298]=====================\n",
            "train_loss : 0.2383\n",
            "val_segment_loss : 0.0158\n"
          ]
        },
        {
          "metadata": {
            "tags": null
          },
          "name": "stderr",
          "output_type": "stream",
          "text": [
            "100%|██████████| 70/70 [01:48<00:00,  1.56s/it]\n",
            "100%|██████████| 30/30 [00:15<00:00,  1.93it/s]\n"
          ]
        },
        {
          "metadata": {
            "tags": null
          },
          "name": "stdout",
          "output_type": "stream",
          "text": [
            "=====================[222 / 298]=====================\n",
            "train_loss : 0.2408\n",
            "val_segment_loss : 0.0131\n"
          ]
        },
        {
          "metadata": {
            "tags": null
          },
          "name": "stderr",
          "output_type": "stream",
          "text": [
            "100%|██████████| 70/70 [01:58<00:00,  1.70s/it]\n",
            "100%|██████████| 30/30 [00:15<00:00,  1.91it/s]\n"
          ]
        },
        {
          "metadata": {
            "tags": null
          },
          "name": "stdout",
          "output_type": "stream",
          "text": [
            "=====================[223 / 298]=====================\n",
            "train_loss : 0.2389\n",
            "val_segment_loss : 0.0122\n"
          ]
        },
        {
          "metadata": {
            "tags": null
          },
          "name": "stderr",
          "output_type": "stream",
          "text": [
            "100%|██████████| 70/70 [01:53<00:00,  1.62s/it]\n",
            "100%|██████████| 30/30 [00:15<00:00,  1.92it/s]\n"
          ]
        },
        {
          "metadata": {
            "tags": null
          },
          "name": "stdout",
          "output_type": "stream",
          "text": [
            "=====================[224 / 298]=====================\n",
            "train_loss : 0.2545\n",
            "val_segment_loss : 0.0151\n"
          ]
        },
        {
          "metadata": {
            "tags": null
          },
          "name": "stderr",
          "output_type": "stream",
          "text": [
            "100%|██████████| 70/70 [01:47<00:00,  1.54s/it]\n",
            "100%|██████████| 30/30 [00:15<00:00,  1.92it/s]\n"
          ]
        },
        {
          "metadata": {
            "tags": null
          },
          "name": "stdout",
          "output_type": "stream",
          "text": [
            "=====================[225 / 298]=====================\n",
            "train_loss : 0.2400\n",
            "val_segment_loss : 0.0132\n"
          ]
        },
        {
          "metadata": {
            "tags": null
          },
          "name": "stderr",
          "output_type": "stream",
          "text": [
            "100%|██████████| 70/70 [01:38<00:00,  1.41s/it]\n",
            "100%|██████████| 30/30 [00:15<00:00,  1.92it/s]\n"
          ]
        },
        {
          "metadata": {
            "tags": null
          },
          "name": "stdout",
          "output_type": "stream",
          "text": [
            "=====================[226 / 298]=====================\n",
            "train_loss : 0.2495\n",
            "val_segment_loss : 0.0146\n"
          ]
        },
        {
          "metadata": {
            "tags": null
          },
          "name": "stderr",
          "output_type": "stream",
          "text": [
            "100%|██████████| 70/70 [01:35<00:00,  1.36s/it]\n",
            "100%|██████████| 30/30 [00:15<00:00,  1.91it/s]\n"
          ]
        },
        {
          "metadata": {
            "tags": null
          },
          "name": "stdout",
          "output_type": "stream",
          "text": [
            "=====================[227 / 298]=====================\n",
            "train_loss : 0.2427\n",
            "val_segment_loss : 0.0129\n"
          ]
        },
        {
          "metadata": {
            "tags": null
          },
          "name": "stderr",
          "output_type": "stream",
          "text": [
            "100%|██████████| 70/70 [01:39<00:00,  1.43s/it]\n",
            "100%|██████████| 30/30 [00:15<00:00,  1.88it/s]\n"
          ]
        },
        {
          "metadata": {
            "tags": null
          },
          "name": "stdout",
          "output_type": "stream",
          "text": [
            "=====================[228 / 298]=====================\n",
            "train_loss : 0.2439\n",
            "val_segment_loss : 0.0173\n"
          ]
        },
        {
          "metadata": {
            "tags": null
          },
          "name": "stderr",
          "output_type": "stream",
          "text": [
            "100%|██████████| 70/70 [01:40<00:00,  1.43s/it]\n",
            "100%|██████████| 30/30 [00:15<00:00,  1.93it/s]\n"
          ]
        },
        {
          "metadata": {
            "tags": null
          },
          "name": "stdout",
          "output_type": "stream",
          "text": [
            "=====================[229 / 298]=====================\n",
            "train_loss : 0.2385\n",
            "val_segment_loss : 0.0143\n"
          ]
        },
        {
          "metadata": {
            "tags": null
          },
          "name": "stderr",
          "output_type": "stream",
          "text": [
            "100%|██████████| 70/70 [01:33<00:00,  1.34s/it]\n",
            "100%|██████████| 30/30 [00:15<00:00,  1.91it/s]\n"
          ]
        },
        {
          "metadata": {
            "tags": null
          },
          "name": "stdout",
          "output_type": "stream",
          "text": [
            "=====================[230 / 298]=====================\n",
            "train_loss : 0.2522\n",
            "val_segment_loss : 0.0173\n"
          ]
        },
        {
          "metadata": {
            "tags": null
          },
          "name": "stderr",
          "output_type": "stream",
          "text": [
            "100%|██████████| 70/70 [01:30<00:00,  1.30s/it]\n",
            "100%|██████████| 30/30 [00:15<00:00,  1.90it/s]\n"
          ]
        },
        {
          "metadata": {
            "tags": null
          },
          "name": "stdout",
          "output_type": "stream",
          "text": [
            "=====================[231 / 298]=====================\n",
            "train_loss : 0.2700\n",
            "val_segment_loss : 0.0128\n"
          ]
        },
        {
          "metadata": {
            "tags": null
          },
          "name": "stderr",
          "output_type": "stream",
          "text": [
            "100%|██████████| 70/70 [01:38<00:00,  1.41s/it]\n",
            "100%|██████████| 30/30 [00:15<00:00,  1.93it/s]\n"
          ]
        },
        {
          "metadata": {
            "tags": null
          },
          "name": "stdout",
          "output_type": "stream",
          "text": [
            "=====================[232 / 298]=====================\n",
            "train_loss : 0.2460\n",
            "val_segment_loss : 0.0128\n"
          ]
        },
        {
          "metadata": {
            "tags": null
          },
          "name": "stderr",
          "output_type": "stream",
          "text": [
            "100%|██████████| 70/70 [01:23<00:00,  1.19s/it]\n",
            "100%|██████████| 30/30 [00:15<00:00,  1.92it/s]\n"
          ]
        },
        {
          "metadata": {
            "tags": null
          },
          "name": "stdout",
          "output_type": "stream",
          "text": [
            "=====================[233 / 298]=====================\n",
            "train_loss : 0.2336\n",
            "val_segment_loss : 0.0122\n"
          ]
        },
        {
          "metadata": {
            "tags": null
          },
          "name": "stderr",
          "output_type": "stream",
          "text": [
            "100%|██████████| 70/70 [01:27<00:00,  1.25s/it]\n",
            "100%|██████████| 30/30 [00:15<00:00,  1.94it/s]\n"
          ]
        },
        {
          "metadata": {
            "tags": null
          },
          "name": "stdout",
          "output_type": "stream",
          "text": [
            "=====================[234 / 298]=====================\n",
            "train_loss : 0.2367\n",
            "val_segment_loss : 0.0142\n"
          ]
        },
        {
          "metadata": {
            "tags": null
          },
          "name": "stderr",
          "output_type": "stream",
          "text": [
            "100%|██████████| 70/70 [01:26<00:00,  1.23s/it]\n",
            "100%|██████████| 30/30 [00:15<00:00,  1.91it/s]\n"
          ]
        },
        {
          "metadata": {
            "tags": null
          },
          "name": "stdout",
          "output_type": "stream",
          "text": [
            "=====================[235 / 298]=====================\n",
            "train_loss : 0.2315\n",
            "val_segment_loss : 0.0148\n"
          ]
        },
        {
          "metadata": {
            "tags": null
          },
          "name": "stderr",
          "output_type": "stream",
          "text": [
            "100%|██████████| 70/70 [01:24<00:00,  1.21s/it]\n",
            "100%|██████████| 30/30 [00:15<00:00,  1.91it/s]\n"
          ]
        },
        {
          "metadata": {
            "tags": null
          },
          "name": "stdout",
          "output_type": "stream",
          "text": [
            "=====================[236 / 298]=====================\n",
            "train_loss : 0.2427\n",
            "val_segment_loss : 0.0127\n"
          ]
        },
        {
          "metadata": {
            "tags": null
          },
          "name": "stderr",
          "output_type": "stream",
          "text": [
            "100%|██████████| 70/70 [01:25<00:00,  1.22s/it]\n",
            "100%|██████████| 30/30 [00:15<00:00,  1.91it/s]\n"
          ]
        },
        {
          "metadata": {
            "tags": null
          },
          "name": "stdout",
          "output_type": "stream",
          "text": [
            "=====================[237 / 298]=====================\n",
            "train_loss : 0.2335\n",
            "val_segment_loss : 0.0143\n"
          ]
        },
        {
          "metadata": {
            "tags": null
          },
          "name": "stderr",
          "output_type": "stream",
          "text": [
            "100%|██████████| 70/70 [01:24<00:00,  1.20s/it]\n",
            "100%|██████████| 30/30 [00:15<00:00,  1.92it/s]\n"
          ]
        },
        {
          "metadata": {
            "tags": null
          },
          "name": "stdout",
          "output_type": "stream",
          "text": [
            "=====================[238 / 298]=====================\n",
            "train_loss : 0.2431\n",
            "val_segment_loss : 0.0143\n"
          ]
        },
        {
          "metadata": {
            "tags": null
          },
          "name": "stderr",
          "output_type": "stream",
          "text": [
            "100%|██████████| 70/70 [01:23<00:00,  1.19s/it]\n",
            "100%|██████████| 30/30 [00:15<00:00,  1.92it/s]\n"
          ]
        },
        {
          "metadata": {
            "tags": null
          },
          "name": "stdout",
          "output_type": "stream",
          "text": [
            "=====================[239 / 298]=====================\n",
            "train_loss : 0.2553\n",
            "val_segment_loss : 0.0134\n"
          ]
        },
        {
          "output_type": "stream",
          "name": "stderr",
          "text": [
            "100%|██████████| 70/70 [01:16<00:00,  1.09s/it]\n",
            "100%|██████████| 30/30 [00:15<00:00,  1.93it/s]\n"
          ]
        },
        {
          "output_type": "stream",
          "name": "stdout",
          "text": [
            "=====================[240 / 298]=====================\n",
            "train_loss : 0.2290\n",
            "val_segment_loss : 0.0123\n"
          ]
        },
        {
          "output_type": "stream",
          "name": "stderr",
          "text": [
            "100%|██████████| 70/70 [01:19<00:00,  1.14s/it]\n",
            "100%|██████████| 30/30 [00:15<00:00,  1.90it/s]\n"
          ]
        },
        {
          "output_type": "stream",
          "name": "stdout",
          "text": [
            "=====================[241 / 298]=====================\n",
            "train_loss : 0.2486\n",
            "val_segment_loss : 0.0132\n"
          ]
        },
        {
          "output_type": "stream",
          "name": "stderr",
          "text": [
            "100%|██████████| 70/70 [01:16<00:00,  1.10s/it]\n",
            "100%|██████████| 30/30 [00:15<00:00,  1.92it/s]\n"
          ]
        },
        {
          "output_type": "stream",
          "name": "stdout",
          "text": [
            "=====================[242 / 298]=====================\n",
            "train_loss : 0.2394\n",
            "val_segment_loss : 0.0130\n"
          ]
        },
        {
          "output_type": "stream",
          "name": "stderr",
          "text": [
            "100%|██████████| 70/70 [01:17<00:00,  1.10s/it]\n",
            "100%|██████████| 30/30 [00:15<00:00,  1.94it/s]\n"
          ]
        },
        {
          "output_type": "stream",
          "name": "stdout",
          "text": [
            "=====================[243 / 298]=====================\n",
            "train_loss : 0.2533\n",
            "val_segment_loss : 0.0130\n"
          ]
        },
        {
          "output_type": "stream",
          "name": "stderr",
          "text": [
            "100%|██████████| 70/70 [01:20<00:00,  1.16s/it]\n",
            "100%|██████████| 30/30 [00:16<00:00,  1.87it/s]\n"
          ]
        },
        {
          "output_type": "stream",
          "name": "stdout",
          "text": [
            "=====================[244 / 298]=====================\n",
            "train_loss : 0.2305\n",
            "val_segment_loss : 0.0138\n"
          ]
        },
        {
          "output_type": "stream",
          "name": "stderr",
          "text": [
            "100%|██████████| 70/70 [01:24<00:00,  1.20s/it]\n",
            "100%|██████████| 30/30 [00:15<00:00,  1.92it/s]\n"
          ]
        },
        {
          "output_type": "stream",
          "name": "stdout",
          "text": [
            "=====================[245 / 298]=====================\n",
            "train_loss : 0.2371\n",
            "val_segment_loss : 0.0135\n"
          ]
        },
        {
          "output_type": "stream",
          "name": "stderr",
          "text": [
            "100%|██████████| 70/70 [01:14<00:00,  1.06s/it]\n",
            "100%|██████████| 30/30 [00:15<00:00,  1.93it/s]\n"
          ]
        },
        {
          "output_type": "stream",
          "name": "stdout",
          "text": [
            "=====================[246 / 298]=====================\n",
            "train_loss : 0.2365\n",
            "val_segment_loss : 0.0124\n"
          ]
        },
        {
          "output_type": "stream",
          "name": "stderr",
          "text": [
            "100%|██████████| 70/70 [01:12<00:00,  1.04s/it]\n",
            "100%|██████████| 30/30 [00:15<00:00,  1.93it/s]\n"
          ]
        },
        {
          "output_type": "stream",
          "name": "stdout",
          "text": [
            "=====================[247 / 298]=====================\n",
            "train_loss : 0.2490\n",
            "val_segment_loss : 0.0127\n"
          ]
        },
        {
          "output_type": "stream",
          "name": "stderr",
          "text": [
            "100%|██████████| 70/70 [01:14<00:00,  1.06s/it]\n",
            "100%|██████████| 30/30 [00:15<00:00,  1.94it/s]\n"
          ]
        },
        {
          "output_type": "stream",
          "name": "stdout",
          "text": [
            "=====================[248 / 298]=====================\n",
            "train_loss : 0.2183\n",
            "val_segment_loss : 0.0146\n"
          ]
        },
        {
          "output_type": "stream",
          "name": "stderr",
          "text": [
            "100%|██████████| 70/70 [01:17<00:00,  1.10s/it]\n",
            "100%|██████████| 30/30 [00:15<00:00,  1.95it/s]\n"
          ]
        },
        {
          "output_type": "stream",
          "name": "stdout",
          "text": [
            "=====================[249 / 298]=====================\n",
            "train_loss : 0.2467\n",
            "val_segment_loss : 0.0121\n"
          ]
        },
        {
          "output_type": "stream",
          "name": "stderr",
          "text": [
            "100%|██████████| 70/70 [01:10<00:00,  1.01s/it]\n",
            "100%|██████████| 30/30 [00:15<00:00,  1.91it/s]\n"
          ]
        },
        {
          "output_type": "stream",
          "name": "stdout",
          "text": [
            "=====================[250 / 298]=====================\n",
            "train_loss : 0.2445\n",
            "val_segment_loss : 0.0133\n"
          ]
        },
        {
          "output_type": "stream",
          "name": "stderr",
          "text": [
            "100%|██████████| 70/70 [01:12<00:00,  1.04s/it]\n",
            "100%|██████████| 30/30 [00:15<00:00,  1.93it/s]\n"
          ]
        },
        {
          "output_type": "stream",
          "name": "stdout",
          "text": [
            "=====================[251 / 298]=====================\n",
            "train_loss : 0.2281\n",
            "val_segment_loss : 0.0134\n"
          ]
        },
        {
          "output_type": "stream",
          "name": "stderr",
          "text": [
            "100%|██████████| 70/70 [01:14<00:00,  1.06s/it]\n",
            "100%|██████████| 30/30 [00:15<00:00,  1.92it/s]\n"
          ]
        },
        {
          "output_type": "stream",
          "name": "stdout",
          "text": [
            "=====================[252 / 298]=====================\n",
            "train_loss : 0.2474\n",
            "val_segment_loss : 0.0139\n"
          ]
        },
        {
          "output_type": "stream",
          "name": "stderr",
          "text": [
            "100%|██████████| 70/70 [01:14<00:00,  1.06s/it]\n",
            "100%|██████████| 30/30 [00:15<00:00,  1.94it/s]\n"
          ]
        },
        {
          "output_type": "stream",
          "name": "stdout",
          "text": [
            "=====================[253 / 298]=====================\n",
            "train_loss : 0.2436\n",
            "val_segment_loss : 0.0126\n"
          ]
        },
        {
          "output_type": "stream",
          "name": "stderr",
          "text": [
            "100%|██████████| 70/70 [01:11<00:00,  1.03s/it]\n",
            "100%|██████████| 30/30 [00:15<00:00,  1.92it/s]\n"
          ]
        },
        {
          "output_type": "stream",
          "name": "stdout",
          "text": [
            "=====================[254 / 298]=====================\n",
            "train_loss : 0.2343\n",
            "val_segment_loss : 0.0130\n"
          ]
        },
        {
          "output_type": "stream",
          "name": "stderr",
          "text": [
            "100%|██████████| 70/70 [01:09<00:00,  1.01it/s]\n",
            "100%|██████████| 30/30 [00:15<00:00,  1.94it/s]\n"
          ]
        },
        {
          "output_type": "stream",
          "name": "stdout",
          "text": [
            "=====================[255 / 298]=====================\n",
            "train_loss : 0.2244\n",
            "val_segment_loss : 0.0133\n"
          ]
        },
        {
          "output_type": "stream",
          "name": "stderr",
          "text": [
            "100%|██████████| 70/70 [01:09<00:00,  1.01it/s]\n",
            "100%|██████████| 30/30 [00:15<00:00,  1.93it/s]\n"
          ]
        },
        {
          "output_type": "stream",
          "name": "stdout",
          "text": [
            "=====================[256 / 298]=====================\n",
            "train_loss : 0.2443\n",
            "val_segment_loss : 0.0134\n"
          ]
        },
        {
          "output_type": "stream",
          "name": "stderr",
          "text": [
            "100%|██████████| 70/70 [01:10<00:00,  1.01s/it]\n",
            "100%|██████████| 30/30 [00:15<00:00,  1.94it/s]\n"
          ]
        },
        {
          "output_type": "stream",
          "name": "stdout",
          "text": [
            "=====================[257 / 298]=====================\n",
            "train_loss : 0.2574\n",
            "val_segment_loss : 0.0159\n"
          ]
        },
        {
          "output_type": "stream",
          "name": "stderr",
          "text": [
            "100%|██████████| 70/70 [01:13<00:00,  1.05s/it]\n",
            "100%|██████████| 30/30 [00:15<00:00,  1.94it/s]\n"
          ]
        },
        {
          "output_type": "stream",
          "name": "stdout",
          "text": [
            "=====================[258 / 298]=====================\n",
            "train_loss : 0.2299\n",
            "val_segment_loss : 0.0140\n"
          ]
        },
        {
          "output_type": "stream",
          "name": "stderr",
          "text": [
            "100%|██████████| 70/70 [01:06<00:00,  1.06it/s]\n",
            "100%|██████████| 30/30 [00:15<00:00,  1.93it/s]\n"
          ]
        },
        {
          "output_type": "stream",
          "name": "stdout",
          "text": [
            "=====================[259 / 298]=====================\n",
            "train_loss : 0.2335\n",
            "val_segment_loss : 0.0174\n"
          ]
        },
        {
          "output_type": "stream",
          "name": "stderr",
          "text": [
            "100%|██████████| 70/70 [01:10<00:00,  1.00s/it]\n",
            "100%|██████████| 30/30 [00:15<00:00,  1.92it/s]\n"
          ]
        },
        {
          "output_type": "stream",
          "name": "stdout",
          "text": [
            "=====================[260 / 298]=====================\n",
            "train_loss : 0.2434\n",
            "val_segment_loss : 0.0135\n"
          ]
        },
        {
          "output_type": "stream",
          "name": "stderr",
          "text": [
            "100%|██████████| 70/70 [01:07<00:00,  1.04it/s]\n",
            "100%|██████████| 30/30 [00:15<00:00,  1.91it/s]\n"
          ]
        },
        {
          "output_type": "stream",
          "name": "stdout",
          "text": [
            "=====================[261 / 298]=====================\n",
            "train_loss : 0.2444\n",
            "val_segment_loss : 0.0217\n"
          ]
        },
        {
          "output_type": "stream",
          "name": "stderr",
          "text": [
            "100%|██████████| 70/70 [01:10<00:00,  1.01s/it]\n",
            "100%|██████████| 30/30 [00:15<00:00,  1.94it/s]\n"
          ]
        },
        {
          "output_type": "stream",
          "name": "stdout",
          "text": [
            "=====================[262 / 298]=====================\n",
            "train_loss : 0.2253\n",
            "val_segment_loss : 0.0437\n"
          ]
        },
        {
          "output_type": "stream",
          "name": "stderr",
          "text": [
            "100%|██████████| 70/70 [01:08<00:00,  1.02it/s]\n",
            "100%|██████████| 30/30 [00:15<00:00,  1.93it/s]\n"
          ]
        },
        {
          "output_type": "stream",
          "name": "stdout",
          "text": [
            "=====================[263 / 298]=====================\n",
            "train_loss : 0.2329\n",
            "val_segment_loss : 0.0214\n"
          ]
        },
        {
          "output_type": "stream",
          "name": "stderr",
          "text": [
            "100%|██████████| 70/70 [01:11<00:00,  1.02s/it]\n",
            "100%|██████████| 30/30 [00:15<00:00,  1.92it/s]\n"
          ]
        },
        {
          "output_type": "stream",
          "name": "stdout",
          "text": [
            "=====================[264 / 298]=====================\n",
            "train_loss : 0.2288\n",
            "val_segment_loss : 0.0303\n"
          ]
        },
        {
          "output_type": "stream",
          "name": "stderr",
          "text": [
            "100%|██████████| 70/70 [01:06<00:00,  1.06it/s]\n",
            "100%|██████████| 30/30 [00:15<00:00,  1.95it/s]\n"
          ]
        },
        {
          "output_type": "stream",
          "name": "stdout",
          "text": [
            "=====================[265 / 298]=====================\n",
            "train_loss : 0.2454\n",
            "val_segment_loss : 0.0239\n"
          ]
        },
        {
          "output_type": "stream",
          "name": "stderr",
          "text": [
            "100%|██████████| 70/70 [01:11<00:00,  1.02s/it]\n",
            "100%|██████████| 30/30 [00:15<00:00,  1.94it/s]\n"
          ]
        },
        {
          "output_type": "stream",
          "name": "stdout",
          "text": [
            "=====================[266 / 298]=====================\n",
            "train_loss : 0.2378\n",
            "val_segment_loss : 0.0231\n"
          ]
        },
        {
          "output_type": "stream",
          "name": "stderr",
          "text": [
            "100%|██████████| 70/70 [01:06<00:00,  1.05it/s]\n",
            "100%|██████████| 30/30 [00:15<00:00,  1.95it/s]\n"
          ]
        },
        {
          "output_type": "stream",
          "name": "stdout",
          "text": [
            "=====================[267 / 298]=====================\n",
            "train_loss : 0.2402\n",
            "val_segment_loss : 0.0153\n"
          ]
        },
        {
          "output_type": "stream",
          "name": "stderr",
          "text": [
            "100%|██████████| 70/70 [01:08<00:00,  1.02it/s]\n",
            "100%|██████████| 30/30 [00:15<00:00,  1.94it/s]\n"
          ]
        },
        {
          "output_type": "stream",
          "name": "stdout",
          "text": [
            "=====================[268 / 298]=====================\n",
            "train_loss : 0.2277\n",
            "val_segment_loss : 0.0156\n"
          ]
        },
        {
          "output_type": "stream",
          "name": "stderr",
          "text": [
            "100%|██████████| 70/70 [01:08<00:00,  1.02it/s]\n",
            "100%|██████████| 30/30 [00:15<00:00,  1.89it/s]\n"
          ]
        },
        {
          "output_type": "stream",
          "name": "stdout",
          "text": [
            "=====================[269 / 298]=====================\n",
            "train_loss : 0.2449\n",
            "val_segment_loss : 0.0132\n"
          ]
        },
        {
          "output_type": "stream",
          "name": "stderr",
          "text": [
            "100%|██████████| 70/70 [01:06<00:00,  1.06it/s]\n",
            "100%|██████████| 30/30 [00:15<00:00,  1.94it/s]\n"
          ]
        },
        {
          "output_type": "stream",
          "name": "stdout",
          "text": [
            "=====================[270 / 298]=====================\n",
            "train_loss : 0.2292\n",
            "val_segment_loss : 0.0136\n"
          ]
        },
        {
          "output_type": "stream",
          "name": "stderr",
          "text": [
            "100%|██████████| 70/70 [01:05<00:00,  1.08it/s]\n",
            "100%|██████████| 30/30 [00:15<00:00,  1.96it/s]\n"
          ]
        },
        {
          "output_type": "stream",
          "name": "stdout",
          "text": [
            "=====================[271 / 298]=====================\n",
            "train_loss : 0.2384\n",
            "val_segment_loss : 0.0225\n"
          ]
        },
        {
          "output_type": "stream",
          "name": "stderr",
          "text": [
            "100%|██████████| 70/70 [01:07<00:00,  1.04it/s]\n",
            "100%|██████████| 30/30 [00:15<00:00,  1.94it/s]\n"
          ]
        },
        {
          "output_type": "stream",
          "name": "stdout",
          "text": [
            "=====================[272 / 298]=====================\n",
            "train_loss : 0.2288\n",
            "val_segment_loss : 0.0195\n"
          ]
        },
        {
          "output_type": "stream",
          "name": "stderr",
          "text": [
            "100%|██████████| 70/70 [01:05<00:00,  1.07it/s]\n",
            "100%|██████████| 30/30 [00:15<00:00,  1.96it/s]\n"
          ]
        },
        {
          "output_type": "stream",
          "name": "stdout",
          "text": [
            "=====================[273 / 298]=====================\n",
            "train_loss : 0.2435\n",
            "val_segment_loss : 0.0142\n"
          ]
        },
        {
          "output_type": "stream",
          "name": "stderr",
          "text": [
            "100%|██████████| 70/70 [01:08<00:00,  1.02it/s]\n",
            "100%|██████████| 30/30 [00:15<00:00,  1.93it/s]\n"
          ]
        },
        {
          "output_type": "stream",
          "name": "stdout",
          "text": [
            "=====================[274 / 298]=====================\n",
            "train_loss : 0.2370\n",
            "val_segment_loss : 0.0126\n"
          ]
        },
        {
          "output_type": "stream",
          "name": "stderr",
          "text": [
            "100%|██████████| 70/70 [01:04<00:00,  1.09it/s]\n",
            "100%|██████████| 30/30 [00:15<00:00,  1.95it/s]\n"
          ]
        },
        {
          "output_type": "stream",
          "name": "stdout",
          "text": [
            "=====================[275 / 298]=====================\n",
            "train_loss : 0.2413\n",
            "val_segment_loss : 0.0165\n"
          ]
        },
        {
          "output_type": "stream",
          "name": "stderr",
          "text": [
            "100%|██████████| 70/70 [01:04<00:00,  1.08it/s]\n",
            "100%|██████████| 30/30 [00:15<00:00,  1.96it/s]\n"
          ]
        },
        {
          "output_type": "stream",
          "name": "stdout",
          "text": [
            "=====================[276 / 298]=====================\n",
            "train_loss : 0.2437\n",
            "val_segment_loss : 0.0220\n"
          ]
        },
        {
          "output_type": "stream",
          "name": "stderr",
          "text": [
            "100%|██████████| 70/70 [01:07<00:00,  1.04it/s]\n",
            "100%|██████████| 30/30 [00:15<00:00,  1.94it/s]\n"
          ]
        },
        {
          "output_type": "stream",
          "name": "stdout",
          "text": [
            "=====================[277 / 298]=====================\n",
            "train_loss : 0.2391\n",
            "val_segment_loss : 0.0131\n"
          ]
        },
        {
          "output_type": "stream",
          "name": "stderr",
          "text": [
            "100%|██████████| 70/70 [01:07<00:00,  1.03it/s]\n",
            "100%|██████████| 30/30 [00:15<00:00,  1.94it/s]\n"
          ]
        },
        {
          "output_type": "stream",
          "name": "stdout",
          "text": [
            "=====================[278 / 298]=====================\n",
            "train_loss : 0.2299\n",
            "val_segment_loss : 0.0256\n"
          ]
        },
        {
          "output_type": "stream",
          "name": "stderr",
          "text": [
            "100%|██████████| 70/70 [01:07<00:00,  1.04it/s]\n",
            "100%|██████████| 30/30 [00:15<00:00,  1.96it/s]\n"
          ]
        },
        {
          "output_type": "stream",
          "name": "stdout",
          "text": [
            "=====================[279 / 298]=====================\n",
            "train_loss : 0.2430\n",
            "val_segment_loss : 0.0159\n"
          ]
        },
        {
          "output_type": "stream",
          "name": "stderr",
          "text": [
            "100%|██████████| 70/70 [01:04<00:00,  1.09it/s]\n",
            "100%|██████████| 30/30 [00:15<00:00,  1.95it/s]\n"
          ]
        },
        {
          "output_type": "stream",
          "name": "stdout",
          "text": [
            "=====================[280 / 298]=====================\n",
            "train_loss : 0.2325\n",
            "val_segment_loss : 0.0142\n"
          ]
        },
        {
          "output_type": "stream",
          "name": "stderr",
          "text": [
            "100%|██████████| 70/70 [01:05<00:00,  1.07it/s]\n",
            "100%|██████████| 30/30 [00:15<00:00,  1.95it/s]\n"
          ]
        },
        {
          "output_type": "stream",
          "name": "stdout",
          "text": [
            "=====================[281 / 298]=====================\n",
            "train_loss : 0.2353\n",
            "val_segment_loss : 0.0131\n"
          ]
        },
        {
          "output_type": "stream",
          "name": "stderr",
          "text": [
            "100%|██████████| 70/70 [01:04<00:00,  1.08it/s]\n",
            "100%|██████████| 30/30 [00:15<00:00,  1.94it/s]\n"
          ]
        },
        {
          "output_type": "stream",
          "name": "stdout",
          "text": [
            "=====================[282 / 298]=====================\n",
            "train_loss : 0.2269\n",
            "val_segment_loss : 0.0151\n"
          ]
        },
        {
          "output_type": "stream",
          "name": "stderr",
          "text": [
            "100%|██████████| 70/70 [01:08<00:00,  1.03it/s]\n",
            "100%|██████████| 30/30 [00:15<00:00,  1.94it/s]\n"
          ]
        },
        {
          "output_type": "stream",
          "name": "stdout",
          "text": [
            "=====================[283 / 298]=====================\n",
            "train_loss : 0.2332\n",
            "val_segment_loss : 0.0134\n"
          ]
        },
        {
          "output_type": "stream",
          "name": "stderr",
          "text": [
            "100%|██████████| 70/70 [01:05<00:00,  1.07it/s]\n",
            "100%|██████████| 30/30 [00:15<00:00,  1.94it/s]\n"
          ]
        },
        {
          "output_type": "stream",
          "name": "stdout",
          "text": [
            "=====================[284 / 298]=====================\n",
            "train_loss : 0.2241\n",
            "val_segment_loss : 0.0144\n"
          ]
        },
        {
          "output_type": "stream",
          "name": "stderr",
          "text": [
            "100%|██████████| 70/70 [01:05<00:00,  1.06it/s]\n",
            "100%|██████████| 30/30 [00:15<00:00,  1.95it/s]\n"
          ]
        },
        {
          "output_type": "stream",
          "name": "stdout",
          "text": [
            "=====================[285 / 298]=====================\n",
            "train_loss : 0.2342\n",
            "val_segment_loss : 0.0140\n"
          ]
        },
        {
          "output_type": "stream",
          "name": "stderr",
          "text": [
            "100%|██████████| 70/70 [01:04<00:00,  1.09it/s]\n",
            "100%|██████████| 30/30 [00:15<00:00,  1.95it/s]\n"
          ]
        },
        {
          "output_type": "stream",
          "name": "stdout",
          "text": [
            "=====================[286 / 298]=====================\n",
            "train_loss : 0.2282\n",
            "val_segment_loss : 0.0143\n"
          ]
        },
        {
          "output_type": "stream",
          "name": "stderr",
          "text": [
            "100%|██████████| 70/70 [01:03<00:00,  1.10it/s]\n",
            "100%|██████████| 30/30 [00:15<00:00,  1.95it/s]\n"
          ]
        },
        {
          "output_type": "stream",
          "name": "stdout",
          "text": [
            "=====================[287 / 298]=====================\n",
            "train_loss : 0.2278\n",
            "val_segment_loss : 0.0133\n"
          ]
        },
        {
          "output_type": "stream",
          "name": "stderr",
          "text": [
            "100%|██████████| 70/70 [01:05<00:00,  1.07it/s]\n",
            "100%|██████████| 30/30 [00:15<00:00,  1.95it/s]\n"
          ]
        },
        {
          "output_type": "stream",
          "name": "stdout",
          "text": [
            "=====================[288 / 298]=====================\n",
            "train_loss : 0.2275\n",
            "val_segment_loss : 0.0209\n"
          ]
        },
        {
          "output_type": "stream",
          "name": "stderr",
          "text": [
            "100%|██████████| 70/70 [01:03<00:00,  1.10it/s]\n",
            "100%|██████████| 30/30 [00:15<00:00,  1.94it/s]\n"
          ]
        },
        {
          "output_type": "stream",
          "name": "stdout",
          "text": [
            "=====================[289 / 298]=====================\n",
            "train_loss : 0.2309\n",
            "val_segment_loss : 0.0222\n"
          ]
        },
        {
          "output_type": "stream",
          "name": "stderr",
          "text": [
            "100%|██████████| 70/70 [01:04<00:00,  1.08it/s]\n",
            "100%|██████████| 30/30 [00:15<00:00,  1.94it/s]\n"
          ]
        },
        {
          "output_type": "stream",
          "name": "stdout",
          "text": [
            "=====================[290 / 298]=====================\n",
            "train_loss : 0.2366\n",
            "val_segment_loss : 0.0186\n"
          ]
        },
        {
          "output_type": "stream",
          "name": "stderr",
          "text": [
            "100%|██████████| 70/70 [01:05<00:00,  1.06it/s]\n",
            "100%|██████████| 30/30 [00:15<00:00,  1.95it/s]\n"
          ]
        },
        {
          "output_type": "stream",
          "name": "stdout",
          "text": [
            "=====================[291 / 298]=====================\n",
            "train_loss : 0.2371\n",
            "val_segment_loss : 0.0213\n"
          ]
        },
        {
          "output_type": "stream",
          "name": "stderr",
          "text": [
            "100%|██████████| 70/70 [01:05<00:00,  1.08it/s]\n",
            "100%|██████████| 30/30 [00:15<00:00,  1.91it/s]\n"
          ]
        },
        {
          "output_type": "stream",
          "name": "stdout",
          "text": [
            "=====================[292 / 298]=====================\n",
            "train_loss : 0.2444\n",
            "val_segment_loss : 0.0133\n"
          ]
        },
        {
          "output_type": "stream",
          "name": "stderr",
          "text": [
            "100%|██████████| 70/70 [01:03<00:00,  1.10it/s]\n",
            "100%|██████████| 30/30 [00:15<00:00,  1.96it/s]\n"
          ]
        },
        {
          "output_type": "stream",
          "name": "stdout",
          "text": [
            "=====================[293 / 298]=====================\n",
            "train_loss : 0.2407\n",
            "val_segment_loss : 0.0151\n"
          ]
        },
        {
          "output_type": "stream",
          "name": "stderr",
          "text": [
            "100%|██████████| 70/70 [01:04<00:00,  1.09it/s]\n",
            "100%|██████████| 30/30 [00:15<00:00,  1.97it/s]\n"
          ]
        },
        {
          "output_type": "stream",
          "name": "stdout",
          "text": [
            "=====================[294 / 298]=====================\n",
            "train_loss : 0.2455\n",
            "val_segment_loss : 0.0175\n"
          ]
        },
        {
          "output_type": "stream",
          "name": "stderr",
          "text": [
            "100%|██████████| 70/70 [01:04<00:00,  1.08it/s]\n",
            "100%|██████████| 30/30 [00:15<00:00,  1.95it/s]\n"
          ]
        },
        {
          "output_type": "stream",
          "name": "stdout",
          "text": [
            "=====================[295 / 298]=====================\n",
            "train_loss : 0.2304\n",
            "val_segment_loss : 0.0123\n"
          ]
        },
        {
          "output_type": "stream",
          "name": "stderr",
          "text": [
            "100%|██████████| 70/70 [01:04<00:00,  1.09it/s]\n",
            "100%|██████████| 30/30 [00:15<00:00,  1.97it/s]\n"
          ]
        },
        {
          "output_type": "stream",
          "name": "stdout",
          "text": [
            "=====================[296 / 298]=====================\n",
            "train_loss : 0.2283\n",
            "val_segment_loss : 0.0127\n"
          ]
        },
        {
          "output_type": "stream",
          "name": "stderr",
          "text": [
            "100%|██████████| 70/70 [01:04<00:00,  1.08it/s]\n",
            "100%|██████████| 30/30 [00:15<00:00,  1.94it/s]\n"
          ]
        },
        {
          "output_type": "stream",
          "name": "stdout",
          "text": [
            "=====================[297 / 298]=====================\n",
            "train_loss : 0.2344\n",
            "val_segment_loss : 0.0148\n"
          ]
        }
      ],
      "source": [
        "new_filename = './logs/model_epoch_200to300.txt'\n",
        "model_dir = './weights/'\n",
        "\n",
        "w = open(new_filename, 'w')\n",
        "\n",
        "for epoch in range(start_epoch, start_epoch + epochs):\n",
        "    train_loss = 0.\n",
        "    best_train_loss = 1e3\n",
        "    val_loss = 0.\n",
        "    best_val_loss = 1e3\n",
        "    \n",
        "    \n",
        "    model.train()\n",
        "    model_seg.train()\n",
        "    for i_batch, sample_batched in enumerate(tqdm(Train_dataloader)):\n",
        "        # gray_batch : I / aug_gray_batch : I_a / anomaly_mask : M_a\n",
        "        gray_batch = sample_batched[\"image\"].cuda()\n",
        "        aug_gray_batch = sample_batched[\"augmented_image\"].cuda()\n",
        "        anomaly_mask = sample_batched[\"anomaly_mask\"].cuda()\n",
        "\n",
        "        # gray_rec : I_r / joined_in : I_r + I_a\n",
        "        gray_rec = model(aug_gray_batch)\n",
        "        joined_in = torch.cat((gray_rec, aug_gray_batch), dim=1)\n",
        "\n",
        "        # out_mask_sm : M_a_hat\n",
        "        out_mask = model_seg(joined_in)\n",
        "        out_mask_sm = torch.softmax(out_mask, dim=1)\n",
        "\n",
        "        l2_loss = loss_l2(gray_rec,gray_batch)\n",
        "        ssim_loss = loss_ssim(gray_rec, gray_batch)\n",
        "\n",
        "        segment_loss = loss_focal(out_mask_sm, anomaly_mask)\n",
        "        loss = l2_loss + ssim_loss + segment_loss\n",
        "        \n",
        "        # measure\n",
        "        train_loss += loss.item()\n",
        "\n",
        "        optimizer.zero_grad()\n",
        "        \n",
        "        loss.backward()\n",
        "        optimizer.step()\n",
        "        \n",
        "    scheduler.step()\n",
        "    train_loss = train_loss/len(Train_dataloader)\n",
        "    \n",
        "    model.eval()\n",
        "    model_seg.eval()\n",
        "    for i_batch, sample_batched in enumerate(tqdm(Test_dataloader)):\n",
        "        # gray_batch : I / anomaly_mask : M_a (testset에서는 I == I_a 취급)\n",
        "        gray_batch = sample_batched[\"image\"].cuda()\n",
        "        true_mask = sample_batched[\"mask\"]\n",
        "        \n",
        "        # true_mask_cv = true_mask.detach().numpy()[0,:,:,:].transpose((1, 2, 0))\n",
        "\n",
        "        # gray_rec : (I + I_r)\n",
        "        gray_rec = model(gray_batch)\n",
        "        joined_in = torch.cat((gray_rec.detach(), gray_batch), dim=1)\n",
        "\n",
        "        # out_mask_sm : M_a_hat\n",
        "        out_mask = model_seg(joined_in)\n",
        "        out_mask_sm = torch.softmax(out_mask, dim=1)\n",
        "\n",
        "        segment_loss = loss_focal(out_mask_sm, true_mask)\n",
        "        \n",
        "        # measure\n",
        "        val_loss += segment_loss.item()\n",
        "\n",
        "        # out_mask_averaged = torch.nn.functional.avg_pool2d(out_mask_sm[: ,1: ,: ,:], 21, stride=1, padding=21 // 2).cpu().detach().numpy()\n",
        "        # image_score = np.max(out_mask_averaged)\n",
        "\n",
        "        # anomaly_score_prediction.append(image_score)\n",
        "\n",
        "    val_loss = val_loss/len(Test_dataloader)\n",
        "\n",
        "    if epoch % 1 == 0 :\n",
        "        print(\"=====================[{:2d} / {}]=====================\".format(epoch, start_epoch + epochs))\n",
        "        print(\"train_loss : {:.4f}\".format(train_loss))\n",
        "        print(\"val_segment_loss : {:.4f}\".format(val_loss))\n",
        "    # train loss = l2 + SSIM + focal_loss, val_loss = focal_loss / reconstruction loss는 anomaly detect 하는데 필요 없기 때문.\n",
        "    w.write(str(epoch) + ',' + str(round(train_loss, 4)) +  ',' + str(round(val_loss, 4)) + '\\n')\n",
        "w.close()\n",
        "\n",
        "\n",
        "torch.save({\n",
        "'model_state_dict': model.state_dict(),\n",
        "'model_seg_state_dict': model_seg.state_dict(),\n",
        "'optimizer_state_dict': optimizer.state_dict(),\n",
        "'scheduler_state_dict': scheduler.state_dict(),\n",
        "'epoch' : epoch\n",
        "}, './checkpoints/checkpoint.tar')"
      ]
    }
  ],
  "metadata": {
    "kernelspec": {
      "display_name": "Python 3 (ipykernel)",
      "language": "python",
      "name": "python3"
    },
    "language_info": {
      "codemirror_mode": {
        "name": "ipython",
        "version": 3
      },
      "file_extension": ".py",
      "mimetype": "text/x-python",
      "name": "python",
      "nbconvert_exporter": "python",
      "pygments_lexer": "ipython3",
      "version": "3.8.16"
    },
    "colab": {
      "provenance": [],
      "gpuType": "T4"
    },
    "accelerator": "GPU",
    "gpuClass": "standard"
  },
  "nbformat": 4,
  "nbformat_minor": 5
}